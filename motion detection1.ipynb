{
 "cells": [
  {
   "cell_type": "code",
   "execution_count": 1,
   "id": "185a2c0d",
   "metadata": {},
   "outputs": [],
   "source": [
    "import cv2\n",
    "\n",
    "cap = cv2.VideoCapture(0)\n",
    "# If using a video file instead, replace 0 with the file path like: cap = cv2.VideoCapture(\"filename.mp4\")\n",
    "\n",
    "# Set up initial frame\n",
    "ret, frame1 = cap.read()\n",
    "prev_gray = cv2.cvtColor(frame1, cv2.COLOR_BGR2GRAY)\n",
    "prev_gray = cv2.GaussianBlur(prev_gray, (5, 5), 0)\n",
    "\n",
    "# Define motion detection parameters\n",
    "motion_threshold = 30\n",
    "min_area = 500\n",
    "\n",
    "while True:\n",
    "    ret, frame2 = cap.read()\n",
    "    if not ret:\n",
    "        break\n",
    "\n",
    "    # Convert current frame to grayscale and blur it\n",
    "    current_gray = cv2.cvtColor(frame2, cv2.COLOR_BGR2GRAY)\n",
    "    current_gray = cv2.GaussianBlur(current_gray, (5, 5), 0)\n",
    "\n",
    "    # Compute difference between current frame and initial frame\n",
    "    frame_diff = cv2.absdiff(prev_gray, current_gray)\n",
    "    thresholded = cv2.threshold(frame_diff, motion_threshold, 255, cv2.THRESH_BINARY)[1]\n",
    "\n",
    "    # Dilate the thresholded image to fill in holes\n",
    "    dilated = cv2.dilate(thresholded, None, iterations=2)\n",
    "\n",
    "    # Find contours and draw bounding rectangles around moving objects\n",
    "    contours, _ = cv2.findContours(dilated, cv2.RETR_EXTERNAL, cv2.CHAIN_APPROX_SIMPLE)\n",
    "    for contour in contours:\n",
    "        if cv2.contourArea(contour) > min_area:\n",
    "            x, y, w, h = cv2.boundingRect(contour)\n",
    "            cv2.rectangle(frame2, (x, y), (x+w, y+h), (0, 255, 0), 2)\n",
    "\n",
    "    # Show resulting frames\n",
    "    cv2.imshow('Original', frame2)\n",
    "\n",
    "    # Update previous frame and handle exit condition\n",
    "    prev_gray = current_gray\n",
    "    if cv2.waitKey(10) & 0xFF == ord('q'):\n",
    "        break\n",
    "\n",
    "# Clean up resources\n",
    "cap.release()\n",
    "cv2.destroyAllWindows()"
   ]
  },
  {
   "cell_type": "code",
   "execution_count": null,
   "id": "633170d2",
   "metadata": {},
   "outputs": [],
   "source": []
  }
 ],
 "metadata": {
  "kernelspec": {
   "display_name": "Python 3 (ipykernel)",
   "language": "python",
   "name": "python3"
  },
  "language_info": {
   "codemirror_mode": {
    "name": "ipython",
    "version": 3
   },
   "file_extension": ".py",
   "mimetype": "text/x-python",
   "name": "python",
   "nbconvert_exporter": "python",
   "pygments_lexer": "ipython3",
   "version": "3.11.2"
  }
 },
 "nbformat": 4,
 "nbformat_minor": 5
}
