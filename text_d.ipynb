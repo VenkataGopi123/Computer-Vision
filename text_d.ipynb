{
 "cells": [
  {
   "cell_type": "code",
   "execution_count": null,
   "id": "fb691996",
   "metadata": {},
   "outputs": [],
   "source": [
    "import cv2\n",
    "from pytesseract import pytesseract\n",
    "from PIL import Image\n",
    "img_path=\"amount-words6 - Copy.png\"\n",
    "pytesseract.tesseract_cmd = r\"C:\\\\Program Files\\\\Tesseract-OCR\\\\tesseract.exe\"\n",
    "\n",
    "# Open image file using Pillow library\n",
    "with Image.open(img_path) as img:\n",
    "    \n",
    "    # Apply image processing filters to improve OCR accuracy\n",
    "    img = img.convert('L')  # convert to grayscale\n",
    "    img = img.point(lambda x: 0 if x < 200 else 255, '1')  # thresholding\n",
    "    pytesseract.tesseract_cmd = r\"C:\\\\Program Files\\\\Tesseract-OCR\\\\tesseract.exe\"\n",
    "    \n",
    "    # Perform OCR using pytesseract library\n",
    "    text = pytesseract.image_to_string(img)\n",
    "    \n",
    "    # Print the detected text\n",
    "print(text)\n"
   ]
  },
  {
   "cell_type": "code",
   "execution_count": null,
   "id": "a4c3c89d",
   "metadata": {},
   "outputs": [],
   "source": [
    "image = cv2.imread(img_path)\n",
    "window='image'\n",
    "cv2.imshow(window,image)\n",
    "cv2.waitKey(0)\n",
    "cv2.destroyAllWindows()"
   ]
  },
  {
   "cell_type": "code",
   "execution_count": null,
   "id": "76bbbc70",
   "metadata": {},
   "outputs": [],
   "source": []
  },
  {
   "cell_type": "code",
   "execution_count": null,
   "id": "1b97b04f",
   "metadata": {},
   "outputs": [],
   "source": []
  }
 ],
 "metadata": {
  "kernelspec": {
   "display_name": "Python 3 (ipykernel)",
   "language": "python",
   "name": "python3"
  },
  "language_info": {
   "codemirror_mode": {
    "name": "ipython",
    "version": 3
   },
   "file_extension": ".py",
   "mimetype": "text/x-python",
   "name": "python",
   "nbconvert_exporter": "python",
   "pygments_lexer": "ipython3",
   "version": "3.11.2"
  }
 },
 "nbformat": 4,
 "nbformat_minor": 5
}
